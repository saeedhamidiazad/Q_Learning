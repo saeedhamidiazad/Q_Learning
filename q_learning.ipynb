{
  "nbformat": 4,
  "nbformat_minor": 0,
  "metadata": {
    "colab": {
      "provenance": []
    },
    "kernelspec": {
      "name": "python3",
      "display_name": "Python 3"
    },
    "language_info": {
      "name": "python"
    }
  },
  "cells": [
    {
      "cell_type": "code",
      "source": [
        "from google.colab import drive\n",
        "drive.mount('/content/drive')\n"
      ],
      "metadata": {
        "colab": {
          "base_uri": "https://localhost:8080/"
        },
        "id": "xmjReGmAUFyS",
        "outputId": "5c66ac97-da33-41af-f255-75c94a68205a"
      },
      "execution_count": null,
      "outputs": [
        {
          "output_type": "stream",
          "name": "stdout",
          "text": [
            "Mounted at /content/drive\n"
          ]
        }
      ]
    },
    {
      "cell_type": "code",
      "source": [
        "import sys\n",
        "sys.path.insert(0,'/content/drive/My Drive')\n"
      ],
      "metadata": {
        "id": "rylspn1xczhD"
      },
      "execution_count": null,
      "outputs": []
    },
    {
      "cell_type": "code",
      "execution_count": null,
      "metadata": {
        "colab": {
          "base_uri": "https://localhost:8080/",
          "height": 1000
        },
        "id": "2TDjBmKFSh2n",
        "outputId": "97350c09-8084-4429-c204-22ba972c0d69"
      },
      "outputs": [
        {
          "output_type": "stream",
          "name": "stdout",
          "text": [
            "rewards:\n",
            "---------------------------\n",
            "-0.10|-0.10|-0.10| 1.00|\n",
            "---------------------------\n",
            "-0.10| 0.00|-0.10|-1.00|\n",
            "---------------------------\n",
            "-0.10|-0.10|-0.10|-0.10|\n",
            "it: 0\n",
            "it: 2000\n",
            "it: 4000\n",
            "it: 6000\n",
            "it: 8000\n"
          ]
        },
        {
          "output_type": "display_data",
          "data": {
            "text/plain": [
              "<Figure size 640x480 with 1 Axes>"
            ],
            "image/png": "[encoded data removed]"
          },
          "metadata": {}
        },
        {
          "output_type": "stream",
          "name": "stdout",
          "text": [
            "update counts:\n",
            "---------------------------\n",
            " 0.01| 0.01| 0.19| 0.00|\n",
            "---------------------------\n",
            " 0.01| 0.00| 0.19| 0.00|\n",
            "---------------------------\n",
            " 0.20| 0.20| 0.20| 0.01|\n",
            "values:\n",
            "---------------------------\n",
            " 0.62| 0.80| 1.00| 0.00|\n",
            "---------------------------\n",
            " 0.46| 0.00| 0.80| 0.00|\n",
            "---------------------------\n",
            " 0.31| 0.46| 0.62| 0.46|\n",
            "policy:\n",
            "---------------------------\n",
            "  R  |  R  |  R  |     |\n",
            "---------------------------\n",
            "  U  |     |  U  |     |\n",
            "---------------------------\n",
            "  R  |  R  |  U  |  L  |\n"
          ]
        }
      ],
      "source": [
        "# https://deeplearningcourses.com/c/artificial-intelligence-reinforcement-learning-in-python\n",
        "# https://www.udemy.com/artificial-intelligence-reinforcement-learning-in-python\n",
        "from __future__ import print_function, division\n",
        "from builtins import range\n",
        "# Note: you may need to update your version of future\n",
        "# sudo pip install -U future\n",
        "\n",
        "\n",
        "import numpy as np\n",
        "import matplotlib.pyplot as plt\n",
        "from grid_world import standard_grid, negative_grid\n",
        "from iterative_policy_evaluation import print_values, print_policy\n",
        "from monte_carlo_es import max_dict\n",
        "\n",
        "GAMMA = 0.9\n",
        "ALPHA = 0.1\n",
        "ALL_POSSIBLE_ACTIONS = ('U', 'D', 'L', 'R')\n",
        "\n",
        "\n",
        "def epsilon_greedy(Q, s, eps=0.1):\n",
        "  if np.random.random() < eps:\n",
        "    return np.random.choice(ALL_POSSIBLE_ACTIONS)\n",
        "  else:\n",
        "    a_opt = max_dict(Q[s])[0]\n",
        "    return a_opt\n",
        "\n",
        "\n",
        "if __name__ == '__main__':\n",
        "  # grid = standard_grid()\n",
        "  grid = negative_grid(step_cost=-0.1)\n",
        "\n",
        "  # print rewards\n",
        "  print(\"rewards:\")\n",
        "  print_values(grid.rewards, grid)\n",
        "\n",
        "  # initialize Q(s,a)\n",
        "  Q = {}\n",
        "  states = grid.all_states()\n",
        "  for s in states:\n",
        "    Q[s] = {}\n",
        "    for a in ALL_POSSIBLE_ACTIONS:\n",
        "      Q[s][a] = 0\n",
        "\n",
        "  # let's also keep track of how many times Q[s] has been updated\n",
        "  update_counts = {}\n",
        "\n",
        "  # repeat until convergence\n",
        "  reward_per_episode = []\n",
        "  for it in range(10000):\n",
        "    if it % 2000 == 0:\n",
        "      print(\"it:\", it)\n",
        "\n",
        "    # begin a new episode\n",
        "    s = grid.reset()\n",
        "    episode_reward = 0\n",
        "    while not grid.game_over():\n",
        "      # perform action and get next state + reward\n",
        "      a = epsilon_greedy(Q, s, eps=0.1)\n",
        "      r = grid.move(a)\n",
        "      s2 = grid.current_state()\n",
        "\n",
        "      # update reward\n",
        "      episode_reward += r\n",
        "\n",
        "      # update Q(s,a)\n",
        "      maxQ = max_dict(Q[s2])[1]\n",
        "      Q[s][a] = Q[s][a] + ALPHA*(r + GAMMA*maxQ - Q[s][a])\n",
        "\n",
        "      # we would like to know how often Q(s) has been updated too\n",
        "      update_counts[s] = update_counts.get(s,0) + 1\n",
        "\n",
        "      # next state becomes current state\n",
        "      s = s2\n",
        "\n",
        "    # log the reward for this episode\n",
        "    reward_per_episode.append(episode_reward)\n",
        "\n",
        "  plt.plot(reward_per_episode)\n",
        "  plt.title(\"reward_per_episode\")\n",
        "  plt.show()\n",
        "\n",
        "  # determine the policy from Q*\n",
        "  # find V* from Q*\n",
        "  policy = {}\n",
        "  V = {}\n",
        "  for s in grid.actions.keys():\n",
        "    a, max_q = max_dict(Q[s])\n",
        "    policy[s] = a\n",
        "    V[s] = max_q\n",
        "\n",
        "  # what's the proportion of time we spend updating each part of Q?\n",
        "  print(\"update counts:\")\n",
        "  total = np.sum(list(update_counts.values()))\n",
        "  for k, v in update_counts.items():\n",
        "    update_counts[k] = float(v) / total\n",
        "  print_values(update_counts, grid)\n",
        "\n",
        "  print(\"values:\")\n",
        "  print_values(V, grid)\n",
        "  print(\"policy:\")\n",
        "  print_policy(policy, grid)\n"
      ]
    }
  ]
}